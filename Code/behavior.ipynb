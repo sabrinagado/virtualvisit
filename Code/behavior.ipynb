{
 "cells": [
  {
   "cell_type": "code",
   "execution_count": null,
   "outputs": [],
   "source": [
    "import os\n",
    "import pandas as pd\n",
    "import numpy as np\n",
    "import matplotlib.pyplot as plt\n",
    "from scipy.stats import linregress\n",
    "\n",
    "pd.options.mode.chained_assignment = None"
   ],
   "metadata": {
    "collapsed": false
   },
   "id": "42b7934676f8f426"
  },
  {
   "cell_type": "code",
   "execution_count": null,
   "outputs": [],
   "source": [
    "from Code import plot_ratings, plot_behavior, plot_gaze"
   ],
   "metadata": {
    "collapsed": false
   },
   "id": "1492243b83c3651e"
  },
  {
   "cell_type": "markdown",
   "source": [
    "## Set Paths and Parameters"
   ],
   "metadata": {
    "collapsed": false
   },
   "id": "9b03a7fe681ce52b"
  },
  {
   "cell_type": "code",
   "execution_count": null,
   "outputs": [],
   "source": [
    "# ToDo: Adapt wave and problematic subject list\n",
    "wave = 1\n",
    "if wave == 1:\n",
    "    problematic_subjects = [1, 3, 12, 19, 33, 45, 46]\n",
    "elif wave == 2:\n",
    "    problematic_subjects = [1, 2, 3, 4, 20, 29, 64]"
   ],
   "metadata": {
    "collapsed": false
   },
   "id": "initial_id"
  },
  {
   "cell_type": "code",
   "execution_count": null,
   "outputs": [],
   "source": [
    "dir_path = os.getcwd()\n",
    "dir_path = os.path.abspath(os.path.join(dir_path, os.pardir))\n",
    "# ToDo: Adapt folder name\n",
    "file_path = os.path.join(dir_path, f'Data-Wave{wave}')"
   ],
   "metadata": {
    "collapsed": false
   },
   "id": "b56d7b38a45dea3f"
  },
  {
   "cell_type": "code",
   "execution_count": null,
   "outputs": [],
   "source": [
    "SA_score=\"SPAI\""
   ],
   "metadata": {
    "collapsed": false
   },
   "id": "ca272b3c065d042b"
  },
  {
   "cell_type": "code",
   "execution_count": null,
   "outputs": [],
   "source": [
    "df_scores = pd.read_csv(os.path.join(file_path, 'scores_summary.csv'), decimal='.', sep=';')\n",
    "df_ratings = pd.read_csv(os.path.join(file_path, 'ratings.csv'), decimal='.', sep=';')"
   ],
   "metadata": {
    "collapsed": false
   },
   "id": "eec3b432b2861741"
  },
  {
   "cell_type": "markdown",
   "source": [
    "## Behavior"
   ],
   "metadata": {
    "collapsed": false
   },
   "id": "6db6fd62918f1e8e"
  },
  {
   "cell_type": "code",
   "execution_count": null,
   "outputs": [],
   "source": [
    "df_events = pd.read_csv(os.path.join(file_path, 'events.csv'), decimal='.', sep=';')\n",
    "df_distance = pd.read_csv(os.path.join(file_path, 'distance_vh.csv'), decimal='.', sep=';')\n",
    "df_movement = pd.read_csv(os.path.join(file_path, 'movement.csv'), decimal='.', sep=';')\n",
    "df_walk_dist = pd.read_csv(os.path.join(file_path, 'walking_distance.csv'), decimal='.', sep=';')"
   ],
   "metadata": {
    "collapsed": false
   },
   "id": "bcb84fda84b6b500"
  },
  {
   "cell_type": "code",
   "execution_count": null,
   "outputs": [],
   "source": [
    "save_path = os.path.join(file_path, 'Behavior')\n",
    "if not os.path.exists(save_path):\n",
    "    os.makedirs(save_path)"
   ],
   "metadata": {
    "collapsed": false
   },
   "id": "3abf252a9ced619a"
  },
  {
   "cell_type": "code",
   "execution_count": null,
   "outputs": [],
   "source": [
    "if wave == 1:\n",
    "    plot_ratings.plot_rating_agents_sad_clicks(df_ratings, df_events, SA_score=SA_score)\n",
    "    plt.savefig(os.path.join(save_path, f\"ratings_humans_clicks_{SA_score}.png\"), dpi=300, bbox_inches=\"tight\")"
   ],
   "metadata": {
    "collapsed": false
   },
   "id": "a5ab4f7a7887ca6b"
  },
  {
   "cell_type": "markdown",
   "source": [
    "### Duration"
   ],
   "metadata": {
    "collapsed": false
   },
   "id": "99a705bcdc1e1497"
  },
  {
   "cell_type": "code",
   "execution_count": null,
   "outputs": [],
   "source": [
    "if wave == 1:\n",
    "    plot_behavior.plot_time_rooms(df_events, SA_score)\n",
    "    plt.savefig(os.path.join(save_path, f\"duration_rooms.png\"), dpi=300, bbox_inches=\"tight\")\n",
    "    \n",
    "    plot_behavior.plot_time_rooms_agents_static(df_events, SA_score)\n",
    "    plt.savefig(os.path.join(save_path, f\"duration_hab-test.png\"), dpi=300, bbox_inches=\"tight\")\n",
    "\n",
    "    # plot_behavior.plot_time_test_rooms_agents_static_sad(df_events, SA_score)\n",
    "    # plt.savefig(os.path.join(save_path, f\"duration_test_{SA_score}.png\"), dpi=300)\n",
    "\n",
    "    plot_behavior.plot_time_diff_rooms_agents_sad(df_events, SA_score)\n",
    "    plt.savefig(os.path.join(save_path, f\"duration_diff_{SA_score}.png\"), dpi=300)\n",
    "\n",
    "if wave == 2:\n",
    "    plot_behavior.plot_time_rooms_agents_dynamic(df_events, SA_score)\n",
    "    plt.savefig(os.path.join(save_path, f\"duration_test.png\"), dpi=300)\n",
    "\n",
    "    plot_behavior.plot_time_test_rooms_agents_dynamic_sad(df_events, SA_score)\n",
    "    plt.savefig(os.path.join(save_path, f\"duration_test_{SA_score}.png\"), dpi=300)"
   ],
   "metadata": {
    "collapsed": false
   },
   "id": "44aa9dad6cc9c3ae"
  },
  {
   "cell_type": "code",
   "execution_count": null,
   "outputs": [],
   "source": [
    "df_diff_dur = plot_behavior.plot_diff_duration(df_events, SA_score)"
   ],
   "metadata": {
    "collapsed": false
   },
   "id": "2004221a1a4628ef"
  },
  {
   "cell_type": "markdown",
   "source": [
    "### Interpersonal Distance"
   ],
   "metadata": {
    "collapsed": false
   },
   "id": "199ada8550710e87"
  },
  {
   "cell_type": "code",
   "execution_count": null,
   "outputs": [],
   "source": [
    "for dist in [\"avg\", \"min\"]:\n",
    "    if wave == 1:\n",
    "        plot_behavior.plot_interpersonal_distance_diff(df_distance, dist, SA_score)\n",
    "        plt.savefig(os.path.join(save_path, f\"distance_{dist}_hab-test.png\"), dpi=300, bbox_inches=\"tight\")\n",
    "\n",
    "        plot_behavior.plot_interpersonal_distance_diff_sad(df_distance, dist, SA_score)\n",
    "        plt.savefig(os.path.join(save_path, f\"distance_{dist}_diff_{SA_score}.png\"), dpi=300)\n",
    "    if wave == 2:\n",
    "        plot_behavior.plot_interpersonal_distance(df_distance, dist, SA_score)\n",
    "        plt.savefig(os.path.join(save_path, f\"distance_{dist}_test.png\"), dpi=300)\n",
    "    \n",
    "        plot_behavior.plot_interpersonal_distance_sad(df_distance, dist, SA_score)\n",
    "        plt.savefig(os.path.join(save_path, f\"distance_{dist}_test_{SA_score}.png\"), dpi=300)"
   ],
   "metadata": {
    "collapsed": false
   },
   "id": "1d87235165fbab99"
  },
  {
   "cell_type": "code",
   "execution_count": null,
   "outputs": [],
   "source": [
    "df_diff_dis = plot_behavior.plot_diff_distance(df_distance, SA_score)"
   ],
   "metadata": {
    "collapsed": false
   },
   "id": "11e79fb9c2917480"
  },
  {
   "cell_type": "markdown",
   "source": [
    "### Clicks"
   ],
   "metadata": {
    "collapsed": false
   },
   "id": "11b768e2586486a1"
  },
  {
   "cell_type": "code",
   "execution_count": null,
   "outputs": [],
   "source": [
    "if wave == 1:\n",
    "    plot_behavior.plot_clicks(df_events, SA_score)\n",
    "    plt.savefig(os.path.join(save_path, f\"clicks_test.png\"), dpi=300)\n",
    "\n",
    "    plot_behavior.plot_clicks_sad(df_events, SA_score)\n",
    "    plt.savefig(os.path.join(save_path, f\"clicks_test_{SA_score}.png\"), dpi=300)"
   ],
   "metadata": {
    "collapsed": false
   },
   "id": "d880d68df204cd48"
  },
  {
   "cell_type": "markdown",
   "source": [
    "### Movement"
   ],
   "metadata": {
    "collapsed": false
   },
   "id": "60cfa112af0cfa15"
  },
  {
   "cell_type": "code",
   "execution_count": null,
   "outputs": [],
   "source": [
    "plot_behavior.plot_walking_distance(df_walk_dist, SA_score)\n",
    "plt.savefig(os.path.join(save_path, f\"walking_distance_grouped_{SA_score}.png\"), dpi=300)"
   ],
   "metadata": {
    "collapsed": false
   },
   "id": "a37329f2a682d883"
  },
  {
   "cell_type": "code",
   "execution_count": null,
   "outputs": [],
   "source": [
    "if wave == 1:\n",
    "    # plot_behavior.plot_movement_single_plots(df_movement, wave, SA_score)\n",
    "    for cutoff in [\"cutoff\", \"median\"]:\n",
    "        plot_behavior.plot_movement_sad(df_movement, file_path, SA_score, cutoff)\n",
    "        plt.savefig(os.path.join(save_path, f\"movement_{cutoff}_{SA_score}.png\"), dpi=300, bbox_inches='tight')\n",
    "        \n",
    "# if wave == 2:\n",
    "#     plot_behavior.animate_movement(df_movement, 56, SA_score, save_path)"
   ],
   "metadata": {
    "collapsed": false
   },
   "id": "3b7510c848754e58"
  },
  {
   "cell_type": "markdown",
   "source": [
    "## Gaze"
   ],
   "metadata": {
    "collapsed": false
   },
   "id": "6f1d4a7db33fc0b7"
  },
  {
   "cell_type": "code",
   "execution_count": null,
   "outputs": [],
   "source": [
    "df_gaze = pd.read_csv(os.path.join(file_path, 'gaze.csv'), decimal='.', sep=';')"
   ],
   "metadata": {
    "collapsed": false
   },
   "id": "b77a36b616d3ccad"
  },
  {
   "cell_type": "code",
   "execution_count": null,
   "outputs": [],
   "source": [
    "save_path = os.path.join(file_path, 'Gaze')\n",
    "if not os.path.exists(save_path):\n",
    "    os.makedirs(save_path)"
   ],
   "metadata": {
    "collapsed": false
   },
   "id": "2dca7d5d9fd51da"
  },
  {
   "cell_type": "code",
   "execution_count": null,
   "outputs": [],
   "source": [
    "dvs = [\"Gaze Proportion\", \"Switches\"]\n",
    "dv = dvs[0]"
   ],
   "metadata": {
    "collapsed": false
   },
   "id": "1203f69d4651e0b9"
  },
  {
   "cell_type": "markdown",
   "source": [
    "### Acquisition"
   ],
   "metadata": {
    "collapsed": false
   },
   "id": "cc08d4d5d5c832b2"
  },
  {
   "cell_type": "code",
   "execution_count": null,
   "outputs": [],
   "source": [
    "plot_gaze.plot_gaze_acq(df_gaze, dv, SA_score)\n",
    "plt.savefig(os.path.join(save_path, f\"gaze_acq-{dv}_{SA_score}.png\"), dpi=300)"
   ],
   "metadata": {
    "collapsed": false
   },
   "id": "403ae7d89ee5447d"
  },
  {
   "cell_type": "markdown",
   "source": [
    "### Clicks"
   ],
   "metadata": {
    "collapsed": false
   },
   "id": "32aa2adcc2842783"
  },
  {
   "cell_type": "code",
   "execution_count": null,
   "outputs": [],
   "source": [
    "if wave == 1:\n",
    "    plot_gaze.plot_gaze_click(df_gaze, dv=\"Gaze Proportion\", SA_score=\"SPAI\")\n",
    "    plt.savefig(os.path.join(save_path, f\"gaze_click-{dv}_{SA_score}.png\"), dpi=300)"
   ],
   "metadata": {
    "collapsed": false
   },
   "id": "c596cac77c9cf48c"
  },
  {
   "cell_type": "markdown",
   "source": [
    "### Test Phase"
   ],
   "metadata": {
    "collapsed": false
   },
   "id": "3d9a1a2f982272e2"
  },
  {
   "cell_type": "code",
   "execution_count": null,
   "outputs": [],
   "source": [
    "plot_gaze.plot_gaze_test(df_gaze, dv=\"Gaze Proportion\", SA_score=\"SPAI\")\n",
    "plt.savefig(os.path.join(save_path, f\"gaze_test-{dv}.png\"), dpi=300)\n",
    "\n",
    "plot_gaze.plot_gaze_test_sad(df_gaze, dv=\"Gaze Proportion\", SA_score=\"SPAI\")\n",
    "plt.savefig(os.path.join(save_path, f\"gaze_test-{dv}_{SA_score}.png\"), dpi=300)"
   ],
   "metadata": {
    "collapsed": false
   },
   "id": "14105c201552c062"
  },
  {
   "cell_type": "code",
   "execution_count": null,
   "outputs": [],
   "source": [
    "df_diff_gaze = plot_gaze.plot_diff_gaze(df_gaze, SA_score=\"SPAI\")\n",
    "plt.savefig(os.path.join(save_path, f\"gaze_test-{dv}-diff_{SA_score}.png\"), dpi=300)"
   ],
   "metadata": {
    "collapsed": false
   },
   "id": "7508b06d72a3acb6"
  },
  {
   "cell_type": "code",
   "execution_count": null,
   "outputs": [],
   "source": [
    "df_diff = df_diff_gaze.merge(df_diff_dur, on=\"VP\")\n",
    "df_diff = df_diff.merge(df_diff_dis, on=\"VP\")\n",
    "\n",
    "x = df_diff[\"dis_diff\"].to_numpy()\n",
    "y = df_diff[\"dur_diff\"].to_numpy()\n",
    "linreg = linregress(x, y)\n",
    "print(f\"Interpersonal Difference x Time: r = {round(linreg.rvalue, 2)}, p = {round(linreg.pvalue, 3)}\")\n",
    "\n",
    "x = df_diff[\"dis_diff\"].to_numpy()\n",
    "y = df_diff[\"gaze_diff\"].to_numpy()\n",
    "linreg = linregress(x, y)\n",
    "print(f\"Interpersonal Difference x Gaze: r = {round(linreg.rvalue, 2)}, p = {round(linreg.pvalue, 3)}\")\n",
    "\n",
    "x = df_diff[\"dur_diff\"].to_numpy()\n",
    "y = df_diff[\"gaze_diff\"].to_numpy()\n",
    "linreg = linregress(x, y)\n",
    "print(f\"Gaze x Time: r = {round(linreg.rvalue, 2)}, p = {round(linreg.pvalue, 3)}\")"
   ],
   "metadata": {
    "collapsed": false
   },
   "id": "6f757df9586d54ae"
  }
 ],
 "metadata": {
  "kernelspec": {
   "display_name": "Python 3",
   "language": "python",
   "name": "python3"
  },
  "language_info": {
   "codemirror_mode": {
    "name": "ipython",
    "version": 2
   },
   "file_extension": ".py",
   "mimetype": "text/x-python",
   "name": "python",
   "nbconvert_exporter": "python",
   "pygments_lexer": "ipython2",
   "version": "2.7.6"
  }
 },
 "nbformat": 4,
 "nbformat_minor": 5
}
