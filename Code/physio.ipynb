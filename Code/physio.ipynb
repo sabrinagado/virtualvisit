{
 "cells": [
  {
   "cell_type": "code",
   "execution_count": null,
   "outputs": [],
   "source": [
    "import os\n",
    "import pandas as pd\n",
    "import matplotlib.pyplot as plt\n",
    "\n",
    "pd.options.mode.chained_assignment = None"
   ],
   "metadata": {
    "collapsed": false
   },
   "id": "42b7934676f8f426"
  },
  {
   "cell_type": "code",
   "execution_count": null,
   "outputs": [],
   "source": [
    "from Code import plot_physio"
   ],
   "metadata": {
    "collapsed": false
   },
   "id": "1492243b83c3651e"
  },
  {
   "cell_type": "markdown",
   "source": [
    "## Set Paths and Parameters"
   ],
   "metadata": {
    "collapsed": false
   },
   "id": "9b03a7fe681ce52b"
  },
  {
   "cell_type": "code",
   "execution_count": null,
   "outputs": [],
   "source": [
    "# ToDo: Adapt wave and problematic subject list\n",
    "wave = 1"
   ],
   "metadata": {
    "collapsed": false
   },
   "id": "initial_id"
  },
  {
   "cell_type": "code",
   "execution_count": null,
   "outputs": [],
   "source": [
    "dir_path = os.getcwd()\n",
    "dir_path = os.path.abspath(os.path.join(dir_path, os.pardir))\n",
    "# ToDo: Adapt folder name\n",
    "file_path = os.path.join(dir_path, f'Data-Wave{wave}')"
   ],
   "metadata": {
    "collapsed": false
   },
   "id": "b56d7b38a45dea3f"
  },
  {
   "cell_type": "code",
   "execution_count": null,
   "outputs": [],
   "source": [
    "SA_score=\"SPAI\""
   ],
   "metadata": {
    "collapsed": false
   },
   "id": "ca272b3c065d042b"
  },
  {
   "cell_type": "code",
   "execution_count": null,
   "outputs": [],
   "source": [
    "df_scores = pd.read_csv(os.path.join(file_path, 'scores_summary.csv'), decimal='.', sep=';')\n",
    "df_scores = df_scores.loc[~df_scores['exclude']]\n",
    "median = df_scores[SA_score].median()"
   ],
   "metadata": {
    "collapsed": false
   },
   "id": "ba19bb5423cddd66"
  },
  {
   "cell_type": "markdown",
   "source": [
    "## Physiology"
   ],
   "metadata": {
    "collapsed": false
   },
   "id": "6db6fd62918f1e8e"
  },
  {
   "cell_type": "code",
   "execution_count": null,
   "outputs": [],
   "source": [
    "save_path = os.path.join(dir_path, f'Plots-Wave{wave}', 'Physiology')\n",
    "if not os.path.exists(save_path):\n",
    "    print('creating path for saving')\n",
    "    os.makedirs(save_path)"
   ],
   "metadata": {
    "collapsed": false
   },
   "id": "3abf252a9ced619a"
  },
  {
   "cell_type": "code",
   "execution_count": null,
   "outputs": [],
   "source": [
    "for physiology in (\"hr\", \"eda\", \"pupil\"):\n",
    "    plot_physio.check_physio(file_path, physiology)"
   ],
   "metadata": {
    "collapsed": false
   },
   "id": "b2d028ed81dc56b"
  },
  {
   "cell_type": "code",
   "execution_count": null,
   "outputs": [],
   "source": [
    "plot_physio.plot_physio_acq(file_path, save_path, test=\"F\", SA_score=\"SPAI\", permutations=1000)\n",
    "plt.savefig(os.path.join(save_path, f\"physiology_acq.png\"), dpi=300)"
   ],
   "metadata": {
    "collapsed": false
   },
   "id": "9008ca2ffea08e29"
  },
  {
   "cell_type": "code",
   "execution_count": null,
   "outputs": [],
   "source": [
    "SA_score = \"SPAI\"\n",
    "plot_physio.plot_physio_test_sad(file_path, SA_score)\n",
    "plt.savefig(os.path.join(save_path, f\"physiology_test_{SA_score}.png\"), dpi=300, bbox_inches=\"tight\")\n",
    "\n",
    "if wave == 1:\n",
    "    plot_physio.plot_physio_diff(file_path, save_path, SA_score)\n",
    "    plt.savefig(os.path.join(save_path, f\"physiology_hab-test.png\"), dpi=300, bbox_inches=\"tight\")\n",
    "\n",
    "    #plot_physio.plot_physio_diff_sad(file_path, SA_score)\n",
    "    #plt.savefig(os.path.join(save_path, f\"physiology_hab-test_{SA_score}.png\"), dpi=300,bbox_inches=\"tight\")\n",
    "    \n",
    "elif wave == 2:\n",
    "    # plot_physio.plot_physio_diff(file_path, save_path, SA_score, visibility=True)\n",
    "    # plt.savefig(os.path.join(save_path, f\"physiology_hab-test_vis.png\"), dpi=300, bbox_inches=\"tight\")\n",
    "    \n",
    "    plot_physio.plot_physio_diff(file_path, save_path, SA_score, visibility=False)\n",
    "    plt.savefig(os.path.join(save_path, f\"physiology_hab-test_rooms.png\"), dpi=300, bbox_inches=\"tight\")\n",
    "    \n",
    "# plot_physio.plot_physio_phase_sad(file_path, SA_score)\n",
    "# plt.savefig(os.path.join(save_path, f\"physiology_phases.png\"), dpi=300, bbox_inches=\"tight\")"
   ],
   "metadata": {
    "collapsed": false
   },
   "id": "e608d25f440a1e29"
  }
 ],
 "metadata": {
  "kernelspec": {
   "display_name": "Python 3",
   "language": "python",
   "name": "python3"
  },
  "language_info": {
   "codemirror_mode": {
    "name": "ipython",
    "version": 2
   },
   "file_extension": ".py",
   "mimetype": "text/x-python",
   "name": "python",
   "nbconvert_exporter": "python",
   "pygments_lexer": "ipython2",
   "version": "2.7.6"
  }
 },
 "nbformat": 4,
 "nbformat_minor": 5
}
