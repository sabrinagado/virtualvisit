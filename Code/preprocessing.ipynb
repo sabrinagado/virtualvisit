{
 "cells": [
  {
   "cell_type": "code",
   "execution_count": 1,
   "outputs": [],
   "source": [
    "import os\n",
    "import pandas as pd\n",
    "import numpy as np\n",
    "\n",
    "pd.options.mode.chained_assignment = None"
   ],
   "metadata": {
    "collapsed": false,
    "ExecuteTime": {
     "end_time": "2024-01-09T16:36:54.001001200Z",
     "start_time": "2024-01-09T16:36:53.619960Z"
    }
   },
   "id": "42b7934676f8f426"
  },
  {
   "cell_type": "code",
   "execution_count": 2,
   "outputs": [],
   "source": [
    "from Code import preproc_scores, preproc_ratings, preproc_behavior, preproc_gaze, plot_gaze"
   ],
   "metadata": {
    "collapsed": false,
    "ExecuteTime": {
     "end_time": "2024-01-09T16:36:57.833721500Z",
     "start_time": "2024-01-09T16:36:54.008963Z"
    }
   },
   "id": "1492243b83c3651e"
  },
  {
   "cell_type": "markdown",
   "source": [
    "## Set paths and parameters"
   ],
   "metadata": {
    "collapsed": false
   },
   "id": "9b03a7fe681ce52b"
  },
  {
   "cell_type": "code",
   "execution_count": 3,
   "outputs": [],
   "source": [
    "# ToDo: Adapt wave and problematic subject list\n",
    "wave = 2\n",
    "if wave == 1:\n",
    "    problematic_subjects = [1, 3, 12, 19, 33, 45, 46]\n",
    "elif wave == 2:\n",
    "    problematic_subjects = [1, 2, 3, 4, 20, 29, 64]"
   ],
   "metadata": {
    "collapsed": false,
    "ExecuteTime": {
     "end_time": "2024-01-09T16:36:57.853721200Z",
     "start_time": "2024-01-09T16:36:57.836721Z"
    }
   },
   "id": "initial_id"
  },
  {
   "cell_type": "code",
   "execution_count": 4,
   "outputs": [],
   "source": [
    "dir_path = os.getcwd()\n",
    "dir_path = os.path.abspath(os.path.join(dir_path, os.pardir))\n",
    "# ToDo: Adapt folder name\n",
    "file_path = os.path.join(dir_path, f'Data-Wave{wave}')"
   ],
   "metadata": {
    "collapsed": false,
    "ExecuteTime": {
     "end_time": "2024-01-09T16:36:57.872720400Z",
     "start_time": "2024-01-09T16:36:57.852722700Z"
    }
   },
   "id": "b56d7b38a45dea3f"
  },
  {
   "cell_type": "markdown",
   "source": [
    "## Calculate questionnaire scores"
   ],
   "metadata": {
    "collapsed": false
   },
   "id": "acd1e456003a730d"
  },
  {
   "cell_type": "code",
   "execution_count": 5,
   "outputs": [],
   "source": [
    "file_name = [item for item in os.listdir(file_path) if (item.endswith(\".xlsx\") and \"raw\" in item)][0]\n",
    "df_scores_raw = pd.read_excel(os.path.join(file_path, file_name))\n",
    "df_scores_raw = df_scores_raw.loc[df_scores_raw[\"FINISHED\"] == 1]\n",
    "df_scores, problematic_subjects = preproc_scores.create_scores(df_scores_raw, problematic_subjects)\n",
    "df_scores.to_csv(os.path.join(file_path, 'scores_summary.csv'), index=False, decimal='.', sep=';', encoding='utf-8-sig')"
   ],
   "metadata": {
    "collapsed": false,
    "ExecuteTime": {
     "end_time": "2024-01-09T16:36:58.319948200Z",
     "start_time": "2024-01-09T16:36:57.869723300Z"
    }
   },
   "id": "a2b1ace0ef97c731"
  },
  {
   "cell_type": "markdown",
   "source": [
    "## Calculate rating scores"
   ],
   "metadata": {
    "collapsed": false
   },
   "id": "4821d14c8982c61"
  },
  {
   "cell_type": "code",
   "execution_count": 6,
   "outputs": [],
   "source": [
    "start = 1\n",
    "vp_folder = [int(item.split(\"_\")[1]) for item in os.listdir(file_path) if (\"VP\" in item)]\n",
    "end = np.max(vp_folder)\n",
    "vps = np.arange(start, end + 1)\n",
    "vps = [vp for vp in vps if not vp in problematic_subjects]"
   ],
   "metadata": {
    "collapsed": false,
    "ExecuteTime": {
     "end_time": "2024-01-09T16:36:58.335948Z",
     "start_time": "2024-01-09T16:36:58.321953900Z"
    }
   },
   "id": "d2de85c88db0bec0"
  },
  {
   "cell_type": "code",
   "execution_count": 7,
   "outputs": [
    {
     "name": "stdout",
     "output_type": "stream",
     "text": [
      "VP 09: Rating Friendly: 30; Rating Unfriendly: 83\n",
      "VP 16: Rating Friendly: 0; Rating Unfriendly: 79\n",
      "VP 28: Rating Friendly: 1; Rating Unfriendly: 36\n",
      "VP 33: Rating Friendly: 36; Rating Unfriendly: 32\n",
      "VP 40: Rating Friendly: 8; Rating Unfriendly: 57\n",
      "VP 55: Rating Friendly: 7; Rating Unfriendly: 8\n",
      "VP 62: Rating Friendly: 10; Rating Unfriendly: 1\n",
      "VP 65: Rating Friendly: 19; Rating Unfriendly: 50\n",
      "VP 70: Rating Friendly: 5; Rating Unfriendly: 89\n"
     ]
    }
   ],
   "source": [
    "df_ratings_total, problematic_subjects = preproc_ratings.create_ratings(vps, file_path, problematic_subjects, df_scores)\n",
    "df_ratings = df_ratings_total.loc[~(df_ratings_total[\"VP\"].isin(problematic_subjects))]\n",
    "df_ratings.to_csv(os.path.join(file_path, 'ratings.csv'), index=False, decimal='.', sep=';')"
   ],
   "metadata": {
    "collapsed": false,
    "ExecuteTime": {
     "end_time": "2024-01-09T16:37:01.165942700Z",
     "start_time": "2024-01-09T16:36:58.339949500Z"
    }
   },
   "id": "2a3ce7385e8f167d"
  },
  {
   "cell_type": "code",
   "execution_count": 8,
   "outputs": [],
   "source": [
    "vps = [vp for vp in vps if not vp in problematic_subjects]"
   ],
   "metadata": {
    "collapsed": false,
    "ExecuteTime": {
     "end_time": "2024-01-09T16:37:01.169942300Z",
     "start_time": "2024-01-09T16:37:01.155943100Z"
    }
   },
   "id": "fc1e1017d62c9265"
  },
  {
   "cell_type": "markdown",
   "source": [
    "## Preprocess behavioral data"
   ],
   "metadata": {
    "collapsed": false
   },
   "id": "6db6fd62918f1e8e"
  },
  {
   "cell_type": "code",
   "execution_count": null,
   "outputs": [],
   "source": [
    "df_events = preproc_behavior.get_phases(vps, file_path, wave, df_scores)\n",
    "df_events = df_events.loc[~(df_events[\"VP\"].isin(problematic_subjects))]\n",
    "df_events.to_csv(os.path.join(dir_path, f'Data-Wave{wave}', 'events.csv'), decimal='.', sep=';', index=False)"
   ],
   "metadata": {
    "collapsed": false
   },
   "id": "71f4ec8526fb2a21"
  },
  {
   "cell_type": "code",
   "execution_count": null,
   "outputs": [],
   "source": [
    "df_movement, df_distance, df_dist_vh = preproc_behavior.get_distances(vps, file_path, wave, df_scores)\n",
    "\n",
    "df_movement.to_csv(os.path.join(dir_path, f'Data-Wave{wave}', 'movement.csv'), decimal='.', sep=';', index=False)\n",
    "df_distance.to_csv(os.path.join(dir_path, f'Data-Wave{wave}', 'walking_distance.csv'), decimal='.', sep=';', index=False)\n",
    "df_dist_vh.to_csv(os.path.join(dir_path, f'Data-Wave{wave}', 'distance_vh.csv'), decimal='.', sep=';', index=False)"
   ],
   "metadata": {
    "collapsed": false
   },
   "id": "c8ed88e27e57cf9d"
  },
  {
   "cell_type": "markdown",
   "source": [
    "## Preprocess gaze and pupil data"
   ],
   "metadata": {
    "collapsed": false
   },
   "id": "decb3fccc84922c6"
  },
  {
   "cell_type": "code",
   "execution_count": 9,
   "outputs": [
    {
     "name": "stderr",
     "output_type": "stream",
     "text": [
      " 71%|███████   | 34/48 [00:56<00:22,  1.63s/it]"
     ]
    },
    {
     "name": "stdout",
     "output_type": "stream",
     "text": [
      "no resting state for VP 50\n"
     ]
    },
    {
     "name": "stderr",
     "output_type": "stream",
     "text": [
      "100%|██████████| 48/48 [01:19<00:00,  1.65s/it]\n"
     ]
    }
   ],
   "source": [
    "df_gaze, df_pupil, df_pupil_interaction = preproc_gaze.get_gaze(vps, file_path, wave, df_scores)\n",
    "\n",
    "df_gaze.to_csv(os.path.join(file_path, 'gaze.csv'), decimal='.', sep=';', index=False)\n",
    "df_pupil.to_csv(os.path.join(file_path, 'pupil.csv'), decimal='.', sep=';', index=False)\n",
    "df_pupil_interaction.to_csv(os.path.join(file_path, 'pupil_interaction.csv'), decimal='.', sep=';', index=False)"
   ],
   "metadata": {
    "collapsed": false,
    "ExecuteTime": {
     "end_time": "2024-01-09T16:38:24.749103200Z",
     "start_time": "2024-01-09T16:37:04.812488800Z"
    }
   },
   "id": "548f6643244e991a"
  },
  {
   "cell_type": "code",
   "execution_count": null,
   "outputs": [],
   "source": [
    "plot_gaze.plot_et_validation(vps, file_path)"
   ],
   "metadata": {
    "collapsed": false
   },
   "id": "d26b3b19c56f014a"
  },
  {
   "cell_type": "markdown",
   "source": [
    "## Preprocess EDA"
   ],
   "metadata": {
    "collapsed": false
   },
   "id": "ca12565cb9905a03"
  },
  {
   "cell_type": "code",
   "execution_count": 10,
   "outputs": [
    {
     "name": "stdout",
     "output_type": "stream",
     "text": [
      "no existing eda.csv found\n",
      "VP 09: Rating Friendly: 30; Rating Unfriendly: 83\n",
      "VP 16: Rating Friendly: 0; Rating Unfriendly: 79\n",
      "VP 28: Rating Friendly: 1; Rating Unfriendly: 36\n",
      "VP 33: Rating Friendly: 36; Rating Unfriendly: 32\n",
      "VP 40: Rating Friendly: 8; Rating Unfriendly: 57\n",
      "VP 55: Rating Friendly: 7; Rating Unfriendly: 8\n",
      "VP 62: Rating Friendly: 10; Rating Unfriendly: 1\n",
      "VP 65: Rating Friendly: 19; Rating Unfriendly: 50\n",
      "VP 70: Rating Friendly: 5; Rating Unfriendly: 89\n"
     ]
    },
    {
     "name": "stderr",
     "output_type": "stream",
     "text": [
      " 71%|███████   | 34/48 [02:45<01:08,  4.88s/it]"
     ]
    },
    {
     "name": "stdout",
     "output_type": "stream",
     "text": [
      "no eda file\n"
     ]
    },
    {
     "name": "stderr",
     "output_type": "stream",
     "text": [
      "100%|██████████| 48/48 [03:49<00:00,  4.78s/it]\n"
     ]
    }
   ],
   "source": [
    "try:\n",
    "    df_eda = pd.read_csv(os.path.join(file_path, 'eda.csv'), decimal='.', sep=';')\n",
    "    print(\"existing eda.csv found\")\n",
    "    vps_eda = list(df_eda[\"VP\"].unique())\n",
    "except:\n",
    "    print(\"no existing eda.csv found\")\n",
    "    vps_eda = []\n",
    "    \n",
    "if set(vps).issubset(vps_eda):\n",
    "    print(\"EDA of all included subjects already processed\")\n",
    "else:\n",
    "    %run preproc_eda {wave} {file_path}"
   ],
   "metadata": {
    "collapsed": false,
    "ExecuteTime": {
     "end_time": "2024-01-09T16:42:18.341055200Z",
     "start_time": "2024-01-09T16:38:24.751097300Z"
    }
   },
   "id": "3670d5b8e89fd91b"
  },
  {
   "cell_type": "markdown",
   "source": [
    "## Preprocess ECG"
   ],
   "metadata": {
    "collapsed": false
   },
   "id": "17f2c4df91709b50"
  },
  {
   "cell_type": "code",
   "execution_count": null,
   "outputs": [],
   "source": [
    "# TODO: Adapt subjects with bad signal quality in preproc_ecg.py script\n",
    "try:\n",
    "    df_hr = pd.read_csv(os.path.join(file_path, 'hr.csv'), decimal='.', sep=';')\n",
    "    print(\"existing hr.csv found\")\n",
    "    vps_hr = list(df_hr[\"VP\"].unique())\n",
    "except:\n",
    "    print(\"no existing hr.csv found\")\n",
    "    vps_hr = []\n",
    "\n",
    "if set(vps).issubset(vps_hr):\n",
    "    print(\"Heart Rate of all included subjects already processed\")\n",
    "else:\n",
    "    %run preproc_ecg {wave} {file_path}"
   ],
   "metadata": {
    "collapsed": false
   },
   "id": "42c82c700f84befb"
  }
 ],
 "metadata": {
  "kernelspec": {
   "display_name": "Python 3",
   "language": "python",
   "name": "python3"
  },
  "language_info": {
   "codemirror_mode": {
    "name": "ipython",
    "version": 2
   },
   "file_extension": ".py",
   "mimetype": "text/x-python",
   "name": "python",
   "nbconvert_exporter": "python",
   "pygments_lexer": "ipython2",
   "version": "2.7.6"
  }
 },
 "nbformat": 4,
 "nbformat_minor": 5
}
